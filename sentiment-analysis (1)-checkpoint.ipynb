{
 "cells": [
  {
   "cell_type": "markdown",
   "metadata": {},
   "source": [
    "# Sentiment Analysis on IMDB Dataset "
   ]
  },
  {
   "cell_type": "markdown",
   "metadata": {},
   "source": [
    "**This study corresponds to implement a Support Vector Classifier\n",
    "  and compare its performance with the classifier inbuilt in scikit-learn library on the famous use case of Sentiment Analysis on IMDB   movie review Dataset.**"
   ]
  },
  {
   "cell_type": "markdown",
   "metadata": {},
   "source": [
    "### 1. Dataset Exploration and preprocessing"
   ]
  },
  {
   "cell_type": "code",
   "execution_count": 2,
   "metadata": {},
   "outputs": [],
   "source": [
    "import numpy as np # linear algebra\n",
    "import pandas as pd # data processing, CSV file I/O (e.g. pd.read_csv)\n",
    "import os\n",
    "import nltk        # Natural Language Toolkit Library for preprocessing\n",
    "import re          # regex\n",
    "from nltk.corpus import stopwords\n",
    "from nltk.stem import PorterStemmer\n",
    "import pickle\n",
    "from sklearn.preprocessing import LabelEncoder\n",
    "import seaborn\n",
    "import joblib\n",
    "import matplotlib.pyplot as plt"
   ]
  },
  {
   "cell_type": "markdown",
   "metadata": {},
   "source": [
    "**1.1 Loading the Data**"
   ]
  },
  {
   "cell_type": "markdown",
   "metadata": {},
   "source": [
    "**Dataset Details**\n",
    "\n",
    "We will be using the IMDB movie reviews dataset for this study.\n",
    "The dataset contains 50,000 reviews — 25,000 positive and 25,000 negative reviews.\n"
   ]
  },
  {
   "cell_type": "code",
   "execution_count": 3,
   "metadata": {},
   "outputs": [
    {
     "data": {
      "text/html": [
       "<div>\n",
       "<style scoped>\n",
       "    .dataframe tbody tr th:only-of-type {\n",
       "        vertical-align: middle;\n",
       "    }\n",
       "\n",
       "    .dataframe tbody tr th {\n",
       "        vertical-align: top;\n",
       "    }\n",
       "\n",
       "    .dataframe thead th {\n",
       "        text-align: right;\n",
       "    }\n",
       "</style>\n",
       "<table border=\"1\" class=\"dataframe\">\n",
       "  <thead>\n",
       "    <tr style=\"text-align: right;\">\n",
       "      <th></th>\n",
       "      <th>review</th>\n",
       "      <th>sentiment</th>\n",
       "    </tr>\n",
       "  </thead>\n",
       "  <tbody>\n",
       "    <tr>\n",
       "      <th>0</th>\n",
       "      <td>One of the other reviewers has mentioned that ...</td>\n",
       "      <td>positive</td>\n",
       "    </tr>\n",
       "    <tr>\n",
       "      <th>1</th>\n",
       "      <td>A wonderful little production. &lt;br /&gt;&lt;br /&gt;The...</td>\n",
       "      <td>positive</td>\n",
       "    </tr>\n",
       "    <tr>\n",
       "      <th>2</th>\n",
       "      <td>I thought this was a wonderful way to spend ti...</td>\n",
       "      <td>positive</td>\n",
       "    </tr>\n",
       "    <tr>\n",
       "      <th>3</th>\n",
       "      <td>Basically there's a family where a little boy ...</td>\n",
       "      <td>negative</td>\n",
       "    </tr>\n",
       "    <tr>\n",
       "      <th>4</th>\n",
       "      <td>Petter Mattei's \"Love in the Time of Money\" is...</td>\n",
       "      <td>positive</td>\n",
       "    </tr>\n",
       "  </tbody>\n",
       "</table>\n",
       "</div>"
      ],
      "text/plain": [
       "                                              review sentiment\n",
       "0  One of the other reviewers has mentioned that ...  positive\n",
       "1  A wonderful little production. <br /><br />The...  positive\n",
       "2  I thought this was a wonderful way to spend ti...  positive\n",
       "3  Basically there's a family where a little boy ...  negative\n",
       "4  Petter Mattei's \"Love in the Time of Money\" is...  positive"
      ]
     },
     "execution_count": 3,
     "metadata": {},
     "output_type": "execute_result"
    }
   ],
   "source": [
    "df = pd.read_csv(\"../input/imdb-dataset-of-50k-movie-reviews/IMDB Dataset.csv\")\n",
    "df.head()"
   ]
  },
  {
   "cell_type": "markdown",
   "metadata": {},
   "source": [
    "**Sample review**"
   ]
  },
  {
   "cell_type": "code",
   "execution_count": 4,
   "metadata": {},
   "outputs": [
    {
     "data": {
      "text/plain": [
       "\"One of the other reviewers has mentioned that after watching just 1 Oz episode you'll be hooked. They are right, as this is exactly what happened with me.<br /><br />The first thing that struck me about Oz was its brutality and unflinching scenes of violence, which set in right from the word GO. Trust me, this is not a show for the faint hearted or timid. This show pulls no punches with regards to drugs, sex or violence. Its is hardcore, in the classic use of the word.<br /><br />It is called OZ as that is the nickname given to the Oswald Maximum Security State Penitentary. It focuses mainly on Emerald City, an experimental section of the prison where all the cells have glass fronts and face inwards, so privacy is not high on the agenda. Em City is home to many..Aryans, Muslims, gangstas, Latinos, Christians, Italians, Irish and more....so scuffles, death stares, dodgy dealings and shady agreements are never far away.<br /><br />I would say the main appeal of the show is due to the fact that it goes where other shows wouldn't dare. Forget pretty pictures painted for mainstream audiences, forget charm, forget romance...OZ doesn't mess around. The first episode I ever saw struck me as so nasty it was surreal, I couldn't say I was ready for it, but as I watched more, I developed a taste for Oz, and got accustomed to the high levels of graphic violence. Not just violence, but injustice (crooked guards who'll be sold out for a nickel, inmates who'll kill on order and get away with it, well mannered, middle class inmates being turned into prison bitches due to their lack of street skills or prison experience) Watching Oz, you may become comfortable with what is uncomfortable viewing....thats if you can get in touch with your darker side.\""
      ]
     },
     "execution_count": 4,
     "metadata": {},
     "output_type": "execute_result"
    }
   ],
   "source": [
    "df['review'].iloc[0]"
   ]
  },
  {
   "cell_type": "markdown",
   "metadata": {},
   "source": [
    "**1.2 Removing Stopwords**\n",
    "The process of converting data to something a computer can understand is referred to as pre-processing. One of the major forms of pre-processing is to filter out useless data.\n",
    "What are Stop words?\n",
    "In natural language processing, useless words (data), are referred to as stop words.\n",
    "\n",
    "Stop Words: A stop word is a commonly used word (such as “the”, “a”, “an”, “in”) that a search engine has been programmed to ignore, both when indexing entries for searching and when retrieving them as the result of a search query.\n",
    "\n",
    "We would not want these words to take up space in our database, or taking up valuable processing time. For this, we can remove them easily, by storing a list of words that you consider to stop words."
   ]
  },
  {
   "cell_type": "code",
   "execution_count": 5,
   "metadata": {},
   "outputs": [],
   "source": [
    "list_names = []"
   ]
  },
  {
   "cell_type": "code",
   "execution_count": 6,
   "metadata": {},
   "outputs": [
    {
     "name": "stdout",
     "output_type": "stream",
     "text": [
      "['i', 'me', 'my', 'myself', 'we', 'our', 'ours', 'ourselves', 'you', \"you're\", \"you've\", \"you'll\", \"you'd\", 'your', 'yours', 'yourself', 'yourselves', 'he', 'him', 'his', 'himself', 'she', \"she's\", 'her', 'hers', 'herself', 'it', \"it's\", 'its', 'itself', 'they', 'them', 'their', 'theirs', 'themselves', 'what', 'which', 'who', 'whom', 'this', 'that', \"that'll\", 'these', 'those', 'am', 'is', 'are', 'was', 'were', 'be', 'been', 'being', 'have', 'has', 'had', 'having', 'do', 'does', 'did', 'doing', 'a', 'an', 'the', 'and', 'but', 'if', 'or', 'because', 'as', 'until', 'while', 'of', 'at', 'by', 'for', 'with', 'about', 'against', 'between', 'into', 'through', 'during', 'before', 'after', 'above', 'below', 'to', 'from', 'up', 'down', 'in', 'out', 'on', 'off', 'over', 'under', 'again', 'further', 'then', 'once', 'here', 'there', 'when', 'where', 'why', 'how', 'all', 'any', 'both', 'each', 'few', 'more', 'most', 'other', 'some', 'such', 'no', 'nor', 'not', 'only', 'own', 'same', 'so', 'than', 'too', 'very', 's', 't', 'can', 'will', 'just', 'don', \"don't\", 'should', \"should've\", 'now', 'd', 'll', 'm', 'o', 're', 've', 'y', 'ain', 'aren', \"aren't\", 'couldn', \"couldn't\", 'didn', \"didn't\", 'doesn', \"doesn't\", 'hadn', \"hadn't\", 'hasn', \"hasn't\", 'haven', \"haven't\", 'isn', \"isn't\", 'ma', 'mightn', \"mightn't\", 'mustn', \"mustn't\", 'needn', \"needn't\", 'shan', \"shan't\", 'shouldn', \"shouldn't\", 'wasn', \"wasn't\", 'weren', \"weren't\", 'won', \"won't\", 'wouldn', \"wouldn't\", 'br']\n"
     ]
    }
   ],
   "source": [
    "stopwords_eng = stopwords.words('english')\n",
    "stopwords_eng.append('br')\n",
    "print(stopwords_eng)"
   ]
  },
  {
   "cell_type": "markdown",
   "metadata": {},
   "source": [
    "**1.3 Tokenizing and Stemming**\n",
    "Stemming is the process of reducing a word to its word stem that affixes to suffixes and prefixes or to the roots of words known as a lemma. Stemming is important in natural language understanding (NLU) and natural language processing (NLP).\n",
    "\n",
    "Tokenization is the process of partitioning text into a sequence of word, whitespace, and punctuation tokens. A tokenization dictionary identifies runs of text that should be considered words.After tokenizing we can remove stopwords and unnecessary punctuations. "
   ]
  },
  {
   "cell_type": "code",
   "execution_count": 7,
   "metadata": {},
   "outputs": [
    {
     "name": "stdout",
     "output_type": "stream",
     "text": [
      "[\"One of the other reviewers has mentioned that after watching just 1 Oz episode you'll be hooked.\", 'They are right, as this is exactly what happened with me.<br /><br />The first thing that struck me about Oz was its brutality and unflinching scenes of violence, which set in right from the word GO.', 'Trust me, this is not a show for the faint hearted or timid.', 'This show pulls no punches with regards to drugs, sex or violence.', 'Its is hardcore, in the classic use of the word.<br /><br />It is called OZ as that is the nickname given to the Oswald Maximum Security State Penitentary.', 'It focuses mainly on Emerald City, an experimental section of the prison where all the cells have glass fronts and face inwards, so privacy is not high on the agenda.', \"Em City is home to many..Aryans, Muslims, gangstas, Latinos, Christians, Italians, Irish and more....so scuffles, death stares, dodgy dealings and shady agreements are never far away.<br /><br />I would say the main appeal of the show is due to the fact that it goes where other shows wouldn't dare.\", \"Forget pretty pictures painted for mainstream audiences, forget charm, forget romance...OZ doesn't mess around.\", \"The first episode I ever saw struck me as so nasty it was surreal, I couldn't say I was ready for it, but as I watched more, I developed a taste for Oz, and got accustomed to the high levels of graphic violence.\", \"Not just violence, but injustice (crooked guards who'll be sold out for a nickel, inmates who'll kill on order and get away with it, well mannered, middle class inmates being turned into prison bitches due to their lack of street skills or prison experience) Watching Oz, you may become comfortable with what is uncomfortable viewing....thats if you can get in touch with your darker side.\"]\n"
     ]
    }
   ],
   "source": [
    "sent = nltk.sent_tokenize(df.iloc[0]['review'])\n",
    "print(sent)"
   ]
  },
  {
   "cell_type": "code",
   "execution_count": 8,
   "metadata": {},
   "outputs": [
    {
     "name": "stdout",
     "output_type": "stream",
     "text": [
      "Review:  one review mention watch oz episod hook right exactli happen first thing struck oz brutal unflinch scene violenc set right word go trust show faint heart timid show pull punch regard drug sex violenc hardcor classic use word call oz nicknam given oswald maximum secur state penitentari focu mainli emerald citi experi section prison cell glass front face inward privaci high agenda em citi home mani aryan muslim gangsta latino christian italian irish scuffl death stare dodgi deal shadi agreement never far away would say main appeal show due fact goe show dare forget pretti pictur paint mainstream audienc forget charm forget romanc oz mess around first episod ever saw struck nasti surreal say readi watch develop tast oz got accustom high level graphic violenc violenc injustic crook guard sold nickel inmat kill order get away well manner middl class inmat turn prison bitch due lack street skill prison experi watch oz may becom comfort uncomfort view that get touch darker side\n"
     ]
    }
   ],
   "source": [
    "corpus = []\n",
    "review = []\n",
    "ps = PorterStemmer()\n",
    "for i in sent:\n",
    "    review.extend(nltk.word_tokenize(re.sub('[^a-zA-Z]', ' ', i).lower()))\n",
    "    #ps.stem(word)\n",
    "    review = [ps.stem(word) for word in review if word not in stopwords_eng]\n",
    "\n",
    "review = ' '.join(review)    \n",
    "print(\"Review: \", review)"
   ]
  },
  {
   "cell_type": "markdown",
   "metadata": {},
   "source": [
    "**1.4 Applying Preprocessing steps on the complete data**"
   ]
  },
  {
   "cell_type": "code",
   "execution_count": null,
   "metadata": {},
   "outputs": [],
   "source": [
    "corpus=[]\n",
    "for i in range(5000):\n",
    "    #review = re.sub('[^a-zA-Z]',' ',df['review'][i]) # chalega\n",
    "    #review = review.lower()\n",
    "    #review = review.split()\n",
    "    #review = [ps.stem(word) for word in review if word not in set(stopwords.words('english'))]\n",
    "    #review=' '.join(review)\n",
    "    review = nltk.word_tokenize(re.sub('[^a-zA-Z]', ' ', df['review'][i]).lower())\n",
    "    #ps.stem(word)\n",
    "    review = [ps.stem(word) for word in review if word not in stopwords_eng]\n",
    "    review=' '.join(review)\n",
    "    corpus.append(review)\n",
    "#corpus"
   ]
  },
  {
   "cell_type": "code",
   "execution_count": 12,
   "metadata": {},
   "outputs": [],
   "source": [
    "def preprocess(data):\n",
    "    \n",
    "    for i in range(len(data)):\n",
    "        \n",
    "        sent = nltk.sent_tokenize(data.iloc[i]['review']) # brake paragraph into sentence\n",
    "        \n",
    "        corpus = []\n",
    "        review = []\n",
    "        \n",
    "        for j in sent:\n",
    "            review.extend(nltk.word_tokenize(re.sub('[^a-zA-Z]', ' ', j).lower()))\n",
    "            #ps.stem(word)\n",
    "            review = [ps.stem(word) for word in review if word not in stopwords_eng]\n",
    "\n",
    "        review = ' '.join(review)    \n",
    "        \n",
    "        data.iloc[i]['review'] = review\n",
    "        \n",
    "        if(i % 5000 == 0):\n",
    "            print(\"Done : \", i)\n",
    "    print(\"Done :\", i)\n",
    "    print(\"Complete Successfully\")"
   ]
  },
  {
   "cell_type": "code",
   "execution_count": 13,
   "metadata": {},
   "outputs": [
    {
     "name": "stdout",
     "output_type": "stream",
     "text": [
      "Done :  0\n",
      "Done :  5000\n",
      "Done :  10000\n",
      "Done :  15000\n",
      "Done :  20000\n",
      "Done :  25000\n",
      "Done :  30000\n",
      "Done :  35000\n",
      "Done :  40000\n",
      "Done :  45000\n",
      "Done : 49999\n",
      "Complete Successfully\n"
     ]
    }
   ],
   "source": [
    "preprocess(df)"
   ]
  },
  {
   "cell_type": "code",
   "execution_count": 14,
   "metadata": {},
   "outputs": [
    {
     "data": {
      "text/html": [
       "<div>\n",
       "<style scoped>\n",
       "    .dataframe tbody tr th:only-of-type {\n",
       "        vertical-align: middle;\n",
       "    }\n",
       "\n",
       "    .dataframe tbody tr th {\n",
       "        vertical-align: top;\n",
       "    }\n",
       "\n",
       "    .dataframe thead th {\n",
       "        text-align: right;\n",
       "    }\n",
       "</style>\n",
       "<table border=\"1\" class=\"dataframe\">\n",
       "  <thead>\n",
       "    <tr style=\"text-align: right;\">\n",
       "      <th></th>\n",
       "      <th>review</th>\n",
       "      <th>sentiment</th>\n",
       "    </tr>\n",
       "  </thead>\n",
       "  <tbody>\n",
       "    <tr>\n",
       "      <th>0</th>\n",
       "      <td>one review mention watch oz episod hook right ...</td>\n",
       "      <td>positive</td>\n",
       "    </tr>\n",
       "    <tr>\n",
       "      <th>1</th>\n",
       "      <td>wonder littl product film techniqu unassum old...</td>\n",
       "      <td>positive</td>\n",
       "    </tr>\n",
       "    <tr>\n",
       "      <th>2</th>\n",
       "      <td>thought wonder way spend time hot summer weeke...</td>\n",
       "      <td>positive</td>\n",
       "    </tr>\n",
       "    <tr>\n",
       "      <th>3</th>\n",
       "      <td>basic famili littl boy jake think zombi closet...</td>\n",
       "      <td>negative</td>\n",
       "    </tr>\n",
       "    <tr>\n",
       "      <th>4</th>\n",
       "      <td>petter mattei love time money visual stun film...</td>\n",
       "      <td>positive</td>\n",
       "    </tr>\n",
       "  </tbody>\n",
       "</table>\n",
       "</div>"
      ],
      "text/plain": [
       "                                              review sentiment\n",
       "0  one review mention watch oz episod hook right ...  positive\n",
       "1  wonder littl product film techniqu unassum old...  positive\n",
       "2  thought wonder way spend time hot summer weeke...  positive\n",
       "3  basic famili littl boy jake think zombi closet...  negative\n",
       "4  petter mattei love time money visual stun film...  positive"
      ]
     },
     "execution_count": 14,
     "metadata": {},
     "output_type": "execute_result"
    }
   ],
   "source": [
    "df.head()"
   ]
  },
  {
   "cell_type": "markdown",
   "metadata": {},
   "source": [
    "**Encode categorical labels using LabelEncoder**"
   ]
  },
  {
   "cell_type": "code",
   "execution_count": 15,
   "metadata": {},
   "outputs": [
    {
     "data": {
      "text/html": [
       "<div>\n",
       "<style scoped>\n",
       "    .dataframe tbody tr th:only-of-type {\n",
       "        vertical-align: middle;\n",
       "    }\n",
       "\n",
       "    .dataframe tbody tr th {\n",
       "        vertical-align: top;\n",
       "    }\n",
       "\n",
       "    .dataframe thead th {\n",
       "        text-align: right;\n",
       "    }\n",
       "</style>\n",
       "<table border=\"1\" class=\"dataframe\">\n",
       "  <thead>\n",
       "    <tr style=\"text-align: right;\">\n",
       "      <th></th>\n",
       "      <th>review</th>\n",
       "      <th>sentiment</th>\n",
       "    </tr>\n",
       "  </thead>\n",
       "  <tbody>\n",
       "    <tr>\n",
       "      <th>0</th>\n",
       "      <td>one review mention watch oz episod hook right ...</td>\n",
       "      <td>1</td>\n",
       "    </tr>\n",
       "    <tr>\n",
       "      <th>1</th>\n",
       "      <td>wonder littl product film techniqu unassum old...</td>\n",
       "      <td>1</td>\n",
       "    </tr>\n",
       "    <tr>\n",
       "      <th>2</th>\n",
       "      <td>thought wonder way spend time hot summer weeke...</td>\n",
       "      <td>1</td>\n",
       "    </tr>\n",
       "    <tr>\n",
       "      <th>3</th>\n",
       "      <td>basic famili littl boy jake think zombi closet...</td>\n",
       "      <td>0</td>\n",
       "    </tr>\n",
       "    <tr>\n",
       "      <th>4</th>\n",
       "      <td>petter mattei love time money visual stun film...</td>\n",
       "      <td>1</td>\n",
       "    </tr>\n",
       "  </tbody>\n",
       "</table>\n",
       "</div>"
      ],
      "text/plain": [
       "                                              review  sentiment\n",
       "0  one review mention watch oz episod hook right ...          1\n",
       "1  wonder littl product film techniqu unassum old...          1\n",
       "2  thought wonder way spend time hot summer weeke...          1\n",
       "3  basic famili littl boy jake think zombi closet...          0\n",
       "4  petter mattei love time money visual stun film...          1"
      ]
     },
     "execution_count": 15,
     "metadata": {},
     "output_type": "execute_result"
    }
   ],
   "source": [
    "label_encoder = LabelEncoder()\n",
    "df['sentiment'] = label_encoder.fit_transform(df['sentiment'])\n",
    "df.head()"
   ]
  },
  {
   "cell_type": "markdown",
   "metadata": {},
   "source": [
    "**1.5 Save the preprocessed data, for further using it without carrying preprocessing again and again.**"
   ]
  },
  {
   "cell_type": "code",
   "execution_count": 16,
   "metadata": {},
   "outputs": [],
   "source": [
    "df.to_csv(\"./processed_reviews.csv\", index = False)"
   ]
  },
  {
   "cell_type": "markdown",
   "metadata": {},
   "source": [
    "**1.6 Loading Preprocessed Dataset**"
   ]
  },
  {
   "cell_type": "code",
   "execution_count": 17,
   "metadata": {},
   "outputs": [
    {
     "data": {
      "text/html": [
       "<div>\n",
       "<style scoped>\n",
       "    .dataframe tbody tr th:only-of-type {\n",
       "        vertical-align: middle;\n",
       "    }\n",
       "\n",
       "    .dataframe tbody tr th {\n",
       "        vertical-align: top;\n",
       "    }\n",
       "\n",
       "    .dataframe thead th {\n",
       "        text-align: right;\n",
       "    }\n",
       "</style>\n",
       "<table border=\"1\" class=\"dataframe\">\n",
       "  <thead>\n",
       "    <tr style=\"text-align: right;\">\n",
       "      <th></th>\n",
       "      <th>review</th>\n",
       "      <th>sentiment</th>\n",
       "    </tr>\n",
       "  </thead>\n",
       "  <tbody>\n",
       "    <tr>\n",
       "      <th>0</th>\n",
       "      <td>one review mention watch oz episod hook right ...</td>\n",
       "      <td>1</td>\n",
       "    </tr>\n",
       "    <tr>\n",
       "      <th>1</th>\n",
       "      <td>wonder littl product film techniqu unassum old...</td>\n",
       "      <td>1</td>\n",
       "    </tr>\n",
       "    <tr>\n",
       "      <th>2</th>\n",
       "      <td>thought wonder way spend time hot summer weeke...</td>\n",
       "      <td>1</td>\n",
       "    </tr>\n",
       "    <tr>\n",
       "      <th>3</th>\n",
       "      <td>basic famili littl boy jake think zombi closet...</td>\n",
       "      <td>0</td>\n",
       "    </tr>\n",
       "    <tr>\n",
       "      <th>4</th>\n",
       "      <td>petter mattei love time money visual stun film...</td>\n",
       "      <td>1</td>\n",
       "    </tr>\n",
       "  </tbody>\n",
       "</table>\n",
       "</div>"
      ],
      "text/plain": [
       "                                              review  sentiment\n",
       "0  one review mention watch oz episod hook right ...          1\n",
       "1  wonder littl product film techniqu unassum old...          1\n",
       "2  thought wonder way spend time hot summer weeke...          1\n",
       "3  basic famili littl boy jake think zombi closet...          0\n",
       "4  petter mattei love time money visual stun film...          1"
      ]
     },
     "execution_count": 17,
     "metadata": {},
     "output_type": "execute_result"
    }
   ],
   "source": [
    "prep_data = pd.read_csv(\"./processed_reviews.csv\")\n",
    "#prep_data = pd.read_csv(\"../input/imdbmoviereviewpreprocessedstemming50k/prepd_data.csv\")\n",
    "#prep_data.drop(columns = ['Unnamed: 0'], inplace = True)\n",
    "prep_data.head()"
   ]
  },
  {
   "cell_type": "code",
   "execution_count": 18,
   "metadata": {},
   "outputs": [
    {
     "data": {
      "text/plain": [
       "'one review mention watch oz episod hook right exactli happen first thing struck oz brutal unflinch scene violenc set right word go trust show faint heart timid show pull punch regard drug sex violenc hardcor classic use word call oz nicknam given oswald maximum secur state penitentari focu mainli emerald citi experi section prison cell glass front face inward privaci high agenda em citi home mani aryan muslim gangsta latino christian italian irish scuffl death stare dodgi deal shadi agreement never far away would say main appeal show due fact goe show dare forget pretti pictur paint mainstream audienc forget charm forget romanc oz mess around first episod ever saw struck nasti surreal say readi watch develop tast oz got accustom high level graphic violenc violenc injust crook guard sold nickel inmat kill order get away well manner middl class inmat turn prison bitch due lack street skill prison experi watch oz may becom comfort uncomfort view get touch darker side'"
      ]
     },
     "execution_count": 18,
     "metadata": {},
     "output_type": "execute_result"
    }
   ],
   "source": [
    "corpus = list(prep_data['review'])\n",
    "corpus[0]"
   ]
  },
  {
   "cell_type": "markdown",
   "metadata": {},
   "source": [
    "comments on corpus - "
   ]
  },
  {
   "cell_type": "markdown",
   "metadata": {},
   "source": [
    "**1.7 Function definition get_data(n_grams, prep_data):**"
   ]
  },
  {
   "cell_type": "code",
   "execution_count": 19,
   "metadata": {},
   "outputs": [],
   "source": [
    "from sklearn.feature_extraction.text import TfidfVectorizer\n",
    "from sklearn.model_selection import train_test_split\n",
    "\n",
    "def get_data(n_grams, prep_data):\n",
    "\n",
    "    '''Since we are experimenting for different n-grams so \n",
    "       define a function which returns you the completely processed\n",
    "       data ready to be fed to the model.\n",
    "       arguements: n_grams => tuple , prep_data => data frame\n",
    "       returns: training data and labels, test data and labels'''\n",
    "    \n",
    "    cv = TfidfVectorizer(max_features=5000, ngram_range=n_grams)\n",
    "    X = cv.fit_transform(list(prep_data['review'])).toarray()\n",
    "    \n",
    "    print(\"TF-IDF calculation: Done!!\")\n",
    "    \n",
    "    y = prep_data['sentiment']\n",
    "    x_train,x_test,y_train,y_test = train_test_split(X,y,test_size=0.5, shuffle=True)\n",
    "    \n",
    "    print(\"Splitted data\")\n",
    "    \n",
    "    return x_train,x_test,y_train,y_test"
   ]
  },
  {
   "cell_type": "code",
   "execution_count": null,
   "metadata": {},
   "outputs": [],
   "source": []
  },
  {
   "cell_type": "markdown",
   "metadata": {},
   "source": [
    "## 2.Training and Evaluating the models"
   ]
  },
  {
   "cell_type": "markdown",
   "metadata": {},
   "source": [
    "**2.1 Training Support Vector Classifier using scikit-learn library"
   ]
  },
  {
   "cell_type": "code",
   "execution_count": 22,
   "metadata": {},
   "outputs": [],
   "source": [
    "from sklearn.linear_model import SGDClassifier \n",
    "from sklearn.metrics import accuracy_score\n",
    "from sklearn.metrics import confusion_matrix, f1_score, precision_score, recall_score, classification_report\n",
    "from sklearn.svm import SVC\n",
    "\n",
    "target_names = ['Negative sentiment', 'Positive Sentiment']"
   ]
  },
  {
   "cell_type": "markdown",
   "metadata": {},
   "source": [
    "#### **SVM using 1-gram**"
   ]
  },
  {
   "cell_type": "code",
   "execution_count": 24,
   "metadata": {},
   "outputs": [
    {
     "name": "stdout",
     "output_type": "stream",
     "text": [
      "TF-IDF calculation: Done!!\n",
      "Splitted data\n",
      "[LibSVM]"
     ]
    },
    {
     "name": "stderr",
     "output_type": "stream",
     "text": [
      "/opt/conda/lib/python3.7/site-packages/sklearn/svm/_base.py:258: ConvergenceWarning: Solver terminated early (max_iter=1000).  Consider pre-processing your data with StandardScaler or MinMaxScaler.\n",
      "  % self.max_iter, ConvergenceWarning)\n"
     ]
    },
    {
     "name": "stdout",
     "output_type": "stream",
     "text": [
      "1-gram SVM Classifier score on Training data: 80.03%\n",
      "\n",
      "\n"
     ]
    }
   ],
   "source": [
    "x_train,x_test,y_train,y_test = get_data(n_grams=(1,1),prep_data = prep_data)\n",
    "model_inbuilt_1gram = SVC(kernel='linear', verbose= 1, max_iter=1000)\n",
    "model_inbuilt_1gram.fit(x_train,y_train,sample_weight=None)\n",
    "\n",
    "print(\"1-gram SVM Classifier score on Training data: {:.2f}%\\n\\n\".format(model_inbuilt_1gram.score(x_train, y_train)*100))"
   ]
  },
  {
   "cell_type": "code",
   "execution_count": 25,
   "metadata": {},
   "outputs": [
    {
     "name": "stdout",
     "output_type": "stream",
     "text": [
      "                    precision    recall  f1-score   support\n",
      "\n",
      "Negative sentiment       0.77      0.77      0.77     12444\n",
      "Positive Sentiment       0.77      0.78      0.78     12556\n",
      "\n",
      "          accuracy                           0.77     25000\n",
      "         macro avg       0.77      0.77      0.77     25000\n",
      "      weighted avg       0.77      0.77      0.77     25000\n",
      "\n"
     ]
    }
   ],
   "source": [
    "y_pred1_1g = model_inbuilt_1gram.predict(x_test)\n",
    "cm1_1g = confusion_matrix(y_test,y_pred1_1g)\n",
    "\n",
    "accuracy1_1g= accuracy_score(y_test,y_pred1_1g)\n",
    "f11_1g = f1_score(y_test,y_pred1_1g)\n",
    "prec1_1g = precision_score(y_test,y_pred1_1g)\n",
    "recall1_1g = recall_score(y_test,y_pred1_1g)\n",
    "report1_1g = classification_report(y_test,y_pred1_1g, target_names=target_names)\n",
    "\n",
    "#saved_model = pickle.dumps(model_inbuilt_1gram)\n",
    "joblib.dump(model_inbuilt_1gram, 'model_inbuilt_1gram.pkl')\n",
    "\n",
    "print(report1_1g)"
   ]
  },
  {
   "cell_type": "code",
   "execution_count": 26,
   "metadata": {},
   "outputs": [
    {
     "name": "stdout",
     "output_type": "stream",
     "text": [
      "Accuracy using 1-gram SVM Classifier on Test data: 77.36%\n",
      "\n",
      "\n"
     ]
    },
    {
     "data": {
      "image/png": "[encoded data removed]",
      "text/plain": [
       "<Figure size 432x288 with 2 Axes>"
      ]
     },
     "metadata": {
      "needs_background": "light"
     },
     "output_type": "display_data"
    }
   ],
   "source": [
    "print(\"Accuracy using 1-gram SVM Classifier on Test data: {:.2f}%\\n\\n\".format(accuracy1_1g*100))\n",
    "seaborn.heatmap(cm1_1g, cmap = \"GnBu\", fmt = \".1f\", annot = True)\n",
    "plt.title(\"Accuracy using 1-gram SVM Classifier\")\n",
    "plt.show()"
   ]
  },
  {
   "cell_type": "markdown",
   "metadata": {},
   "source": [
    "#### **SVM using 2-gram**"
   ]
  },
  {
   "cell_type": "code",
   "execution_count": 27,
   "metadata": {},
   "outputs": [
    {
     "name": "stdout",
     "output_type": "stream",
     "text": [
      "TF-IDF calculation: Done!!\n",
      "Splitted data\n",
      "[LibSVM]"
     ]
    },
    {
     "name": "stderr",
     "output_type": "stream",
     "text": [
      "/opt/conda/lib/python3.7/site-packages/sklearn/svm/_base.py:258: ConvergenceWarning: Solver terminated early (max_iter=1000).  Consider pre-processing your data with StandardScaler or MinMaxScaler.\n",
      "  % self.max_iter, ConvergenceWarning)\n"
     ]
    },
    {
     "name": "stdout",
     "output_type": "stream",
     "text": [
      "2-gram SVM Classifier score on Training data: 81.39%\n",
      "\n",
      "\n"
     ]
    }
   ],
   "source": [
    "x_train,x_test,y_train,y_test = get_data(n_grams=(1,2),prep_data = prep_data)\n",
    "model_inbuilt_2gram = SVC(kernel='linear', verbose= 1, max_iter=1000)\n",
    "model_inbuilt_2gram.fit(x_train,y_train,sample_weight=None)\n",
    "\n",
    "print(\"2-gram SVM Classifier score on Training data: {:.2f}%\\n\\n\".format(model_inbuilt_2gram.score(x_train, y_train)*100))"
   ]
  },
  {
   "cell_type": "code",
   "execution_count": 30,
   "metadata": {},
   "outputs": [
    {
     "name": "stdout",
     "output_type": "stream",
     "text": [
      "                    precision    recall  f1-score   support\n",
      "\n",
      "Negative sentiment       0.78      0.79      0.79     12539\n",
      "Positive Sentiment       0.79      0.78      0.78     12461\n",
      "\n",
      "          accuracy                           0.79     25000\n",
      "         macro avg       0.79      0.79      0.79     25000\n",
      "      weighted avg       0.79      0.79      0.79     25000\n",
      "\n"
     ]
    }
   ],
   "source": [
    "y_pred1_2g = model_inbuilt_2gram.predict(x_test)\n",
    "cm1_2g = confusion_matrix(y_test,y_pred1_2g)\n",
    "\n",
    "accuracy1_2g= accuracy_score(y_test,y_pred1_2g)\n",
    "f11_2g = f1_score(y_test,y_pred1_2g)\n",
    "prec1_2g = precision_score(y_test,y_pred1_2g)\n",
    "recall1_2g = recall_score(y_test,y_pred1_2g)\n",
    "report1_2g = classification_report(y_test,y_pred1_2g, target_names=target_names)\n",
    "\n",
    "joblib.dump(model_inbuilt_2gram, 'model_inbuilt_2gram.pkl')\n",
    "\n",
    "print(report1_2g)"
   ]
  },
  {
   "cell_type": "code",
   "execution_count": 29,
   "metadata": {},
   "outputs": [
    {
     "name": "stdout",
     "output_type": "stream",
     "text": [
      "Accuracy using 2-gram SVM Classifier on Test data: 78.60%\n",
      "\n",
      "\n"
     ]
    },
    {
     "data": {
      "image/png": "[encoded data removed]",
      "text/plain": [
       "<Figure size 432x288 with 2 Axes>"
      ]
     },
     "metadata": {
      "needs_background": "light"
     },
     "output_type": "display_data"
    }
   ],
   "source": [
    "print(\"Accuracy using 2-gram SVM Classifier on Test data: {:.2f}%\\n\\n\".format(accuracy1_2g*100))\n",
    "seaborn.heatmap(cm1_2g, cmap = \"GnBu\", fmt = \".1f\", annot = True)\n",
    "plt.title(\"Accuracy using 2-gram SVM Classifier\")\n",
    "plt.show()"
   ]
  },
  {
   "cell_type": "markdown",
   "metadata": {},
   "source": [
    "#### **SVM using 3-grams**"
   ]
  },
  {
   "cell_type": "code",
   "execution_count": 32,
   "metadata": {},
   "outputs": [
    {
     "name": "stdout",
     "output_type": "stream",
     "text": [
      "TF-IDF calculation: Done!!\n",
      "Splitted data\n",
      "[LibSVM]"
     ]
    },
    {
     "name": "stderr",
     "output_type": "stream",
     "text": [
      "/opt/conda/lib/python3.7/site-packages/sklearn/svm/_base.py:258: ConvergenceWarning: Solver terminated early (max_iter=1000).  Consider pre-processing your data with StandardScaler or MinMaxScaler.\n",
      "  % self.max_iter, ConvergenceWarning)\n"
     ]
    },
    {
     "name": "stdout",
     "output_type": "stream",
     "text": [
      "3-gram SVM Classifier score on Training data: 82.22%\n",
      "\n",
      "\n"
     ]
    }
   ],
   "source": [
    "x_train,x_test,y_train,y_test = get_data(n_grams=(1,3),prep_data = prep_data)\n",
    "model_inbuilt_3gram = SVC(kernel='linear', verbose= 1, max_iter=1000)\n",
    "model_inbuilt_3gram.fit(x_train,y_train,sample_weight=None)\n",
    "\n",
    "print(\"3-gram SVM Classifier score on Training data: {:.2f}%\\n\\n\".format(model_inbuilt_3gram.score(x_train, y_train)*100))"
   ]
  },
  {
   "cell_type": "code",
   "execution_count": 33,
   "metadata": {},
   "outputs": [
    {
     "name": "stdout",
     "output_type": "stream",
     "text": [
      "                    precision    recall  f1-score   support\n",
      "\n",
      "Negative sentiment       0.78      0.80      0.79     12453\n",
      "Positive Sentiment       0.79      0.77      0.78     12547\n",
      "\n",
      "          accuracy                           0.78     25000\n",
      "         macro avg       0.78      0.78      0.78     25000\n",
      "      weighted avg       0.78      0.78      0.78     25000\n",
      "\n"
     ]
    }
   ],
   "source": [
    "y_pred1_3g = model_inbuilt_3gram.predict(x_test)\n",
    "cm1_3g = confusion_matrix(y_test,y_pred1_3g)\n",
    "\n",
    "accuracy1_3g= accuracy_score(y_test,y_pred1_3g)\n",
    "f11_3g = f1_score(y_test,y_pred1_3g)\n",
    "prec1_3g = precision_score(y_test,y_pred1_3g)\n",
    "recall1_3g = recall_score(y_test,y_pred1_3g)\n",
    "report1_3g = classification_report(y_test,y_pred1_3g, target_names=target_names)\n",
    "\n",
    "joblib.dump(model_inbuilt_3gram, 'model_inbuilt_3gram.pkl')\n",
    "\n",
    "print(report1_3g)"
   ]
  },
  {
   "cell_type": "code",
   "execution_count": 34,
   "metadata": {},
   "outputs": [
    {
     "name": "stdout",
     "output_type": "stream",
     "text": [
      "Accuracy using 3-gram SVM Classifier on Test data: 78.48%\n",
      "\n",
      "\n"
     ]
    },
    {
     "data": {
      "image/png": "[encoded data removed]",
      "text/plain": [
       "<Figure size 432x288 with 2 Axes>"
      ]
     },
     "metadata": {
      "needs_background": "light"
     },
     "output_type": "display_data"
    }
   ],
   "source": [
    "print(\"Accuracy using 3-gram SVM Classifier on Test data: {:.2f}%\\n\\n\".format(accuracy1_3g*100))\n",
    "seaborn.heatmap(cm1_3g, cmap = \"GnBu\", fmt = \".1f\", annot = True)\n",
    "plt.title(\"Accuracy using 3-gram SVM Classifier\")\n",
    "plt.show()"
   ]
  },
  {
   "cell_type": "markdown",
   "metadata": {},
   "source": [
    "**2.2 Linear SVC from  Scratch**"
   ]
  },
  {
   "cell_type": "code",
   "execution_count": 63,
   "metadata": {},
   "outputs": [],
   "source": [
    "import numpy as np\n",
    "from sklearn import svm\n",
    "import itertools\n",
    "\n",
    "\n",
    "class MulticlassSVM:\n",
    "\n",
    "    def __init__(self, n_iter = 1000):\n",
    "\n",
    "        self.labels = None\n",
    "        self.binary_svm = None\n",
    "        self.W = None\n",
    "        self.n_iter = n_iter\n",
    "        \n",
    "    def fit_cs(self, X, y):\n",
    "        self.labels = np.unique(y)\n",
    "        X_intercept = np.hstack([X, np.ones((len(X), 1))])\n",
    "\n",
    "        N, d = X_intercept.shape\n",
    "        K = len(self.labels)\n",
    "\n",
    "        W = np.zeros((K, d))\n",
    "\n",
    "        \n",
    "        learning_rate = 1e-8\n",
    "        for i in range(self.n_iter):\n",
    "            W -= learning_rate * self.grad_student(W, X_intercept, y)\n",
    "\n",
    "        self.W = W\n",
    "        \n",
    "    def predict_cs(self, X):\n",
    "        X_intercept = np.hstack([X, np.ones((len(X), 1))])\n",
    "        return self.labels[np.argmax(self.W.dot(X_intercept.T), axis=0)]\n",
    "\n",
    "    def loss_student(self, W, X, y, C=1.0):\n",
    "        \"\"\"\n",
    "        Compute loss function given W, X, y.\n",
    "        For exact definitions, please check the MP document.\n",
    "        Arguments:\n",
    "            W: Weights. Numpy array of shape (K, d)\n",
    "            X: Features. Numpy array of shape (N, d)\n",
    "            y: Labels. Numpy array of shape N\n",
    "            C: Penalty constant. Will always be 1 in the MP.\n",
    "        Returns:\n",
    "            The value of loss function given W, X and y.\n",
    "        \"\"\"\n",
    "        if self.labels is None:\n",
    "            self.labels = np.unique(y)\n",
    "\n",
    "        # loss of regularization term\n",
    "        l2_loss = 0.5 * np.sum(W**2)\n",
    "\n",
    "        # gradient of the other term\n",
    "        # get the matrix of term 1 - delta(j, y_i) + w_j^T * x_i\n",
    "        loss_aug_inf = 1 - (self.labels[:, None] == y[None, :]) + np.matmul(W, np.transpose(X))  # (K, N)\n",
    "        # sum over N of max value in loss_aug_inf\n",
    "        loss_aug_inf_max_sum = np.sum(np.max(loss_aug_inf, axis=0))\n",
    "        # sum over N of w_{y_i}^T * x_i\n",
    "        wx_sum = np.sum(W[y] * X)\n",
    "        multiclass_loss = C * (loss_aug_inf_max_sum - wx_sum)\n",
    "\n",
    "        total_loss = l2_loss + multiclass_loss\n",
    "        return total_loss\n",
    "    def grad_student(self, W, X, y, C=1.0):\n",
    "        \"\"\"\n",
    "        Compute gradient function w.r.t. W given W, X, y.\n",
    "        For exact definitions, please check the MP document.\n",
    "        Arguments:\n",
    "            W: Weights. Numpy array of shape (K, d)\n",
    "            X: Features. Numpy array of shape (N, d)\n",
    "            y: Labels. Numpy array of shape N\n",
    "            C: Penalty constant. Will always be 1 in the MP.\n",
    "        Returns:\n",
    "            The gradient of loss function w.r.t. W,\n",
    "            in a numpy array of shape (K, d).\n",
    "        \"\"\"\n",
    "        if self.labels is None:\n",
    "            self.labels = np.unique(y)\n",
    "\n",
    "        # gradient of regularization term\n",
    "        l2_grad = W\n",
    "\n",
    "        # gradient of the other term\n",
    "        # get the matrix of term 1 - delta(j, y_i) + w_j^T * x_i\n",
    "        loss_aug_inf = 1 - (self.labels[:, None] == y[None, :]) + np.matmul(W, np.transpose(X))  # (K, N)\n",
    "        # get the j_max that maximizes the above matrix for every sample\n",
    "        j_max = np.argmax(loss_aug_inf, axis=0)  # (N,)\n",
    "        # gradient of sum(...) is:   x_i, if k == j_max_i and k != y_i  (pos_case)\n",
    "        #                           -x_i, if k != j_max_i and k == y_i  (neg_case)\n",
    "        #                              0, otherwise\n",
    "        pos_case = np.logical_and((self.labels[:, None] == j_max[None, :]), (self.labels[:, None] != y[None, :]))\n",
    "        neg_case = np.logical_and((self.labels[:, None] != j_max[None, :]), (self.labels[:, None] == y[None, :]))\n",
    "        multiclass_grad = C * np.matmul(pos_case.astype(int) - neg_case.astype(int) , X)\n",
    "\n",
    "        total_grad = l2_grad + multiclass_grad\n",
    "        return total_grad"
   ]
  },
  {
   "cell_type": "markdown",
   "metadata": {},
   "source": [
    "**2.3 Training on SVC from Scratch**"
   ]
  },
  {
   "cell_type": "code",
   "execution_count": 36,
   "metadata": {},
   "outputs": [
    {
     "name": "stdout",
     "output_type": "stream",
     "text": [
      "TF-IDF calculation: Done!!\n",
      "Splitted data\n"
     ]
    },
    {
     "name": "stderr",
     "output_type": "stream",
     "text": [
      "/opt/conda/lib/python3.7/site-packages/ipykernel_launcher.py:84: FutureWarning: Support for multi-dimensional indexing (e.g. `obj[:, None]`) is deprecated and will be removed in a future version.  Convert to a numpy array before indexing instead.\n",
      "/opt/conda/lib/python3.7/site-packages/ipykernel_launcher.py:90: FutureWarning: Support for multi-dimensional indexing (e.g. `obj[:, None]`) is deprecated and will be removed in a future version.  Convert to a numpy array before indexing instead.\n",
      "/opt/conda/lib/python3.7/site-packages/ipykernel_launcher.py:91: FutureWarning: Support for multi-dimensional indexing (e.g. `obj[:, None]`) is deprecated and will be removed in a future version.  Convert to a numpy array before indexing instead.\n"
     ]
    }
   ],
   "source": [
    "x_train,x_test,y_train,y_test = get_data(n_grams=(1,1),prep_data= prep_data)\n",
    "\n",
    "model_Scratch_1gram = MulticlassSVM()\n",
    "model_Scratch_1gram.fit_cs(x_train, y_train)\n",
    "\n",
    "#print(\"1-gram SVM Classifier score on Training data: {:.2f}%\\n\\n\".format(model_Scratch_1gram.score(x_train, y_train)*100))"
   ]
  },
  {
   "cell_type": "code",
   "execution_count": 37,
   "metadata": {},
   "outputs": [
    {
     "name": "stdout",
     "output_type": "stream",
     "text": [
      "                    precision    recall  f1-score   support\n",
      "\n",
      "Negative sentiment       0.91      0.56      0.69     12529\n",
      "Positive Sentiment       0.68      0.95      0.79     12471\n",
      "\n",
      "          accuracy                           0.75     25000\n",
      "         macro avg       0.80      0.75      0.74     25000\n",
      "      weighted avg       0.80      0.75      0.74     25000\n",
      "\n"
     ]
    }
   ],
   "source": [
    "y_pred2_1g = model_Scratch_1gram.predict_cs(x_test)\n",
    "cm2_1g = confusion_matrix(y_test,y_pred2_1g)\n",
    "\n",
    "accuracy2_1g= accuracy_score(y_test,y_pred2_1g)\n",
    "f12_1g = f1_score(y_test,y_pred2_1g)\n",
    "prec2_1g = precision_score(y_test,y_pred2_1g)\n",
    "recall2_1g = recall_score(y_test,y_pred2_1g)\n",
    "report2_1g = classification_report(y_test,y_pred2_1g, target_names=target_names)\n",
    "\n",
    "joblib.dump(model_Scratch_1gram, 'model_Scratch_1gram.pkl')\n",
    "\n",
    "print(report2_1g)"
   ]
  },
  {
   "cell_type": "code",
   "execution_count": 38,
   "metadata": {},
   "outputs": [
    {
     "name": "stdout",
     "output_type": "stream",
     "text": [
      "Accuracy using 1-gram SVM Classifier on Test data: 75.27%\n",
      "\n",
      "\n"
     ]
    },
    {
     "data": {
      "image/png": "[encoded data removed]",
      "text/plain": [
       "<Figure size 432x288 with 2 Axes>"
      ]
     },
     "metadata": {
      "needs_background": "light"
     },
     "output_type": "display_data"
    }
   ],
   "source": [
    "print(\"Accuracy using 1-gram SVM Classifier on Test data: {:.2f}%\\n\\n\".format(accuracy2_1g*100))\n",
    "seaborn.heatmap(cm2_1g, cmap = \"GnBu\", fmt = \".1f\", annot = True)\n",
    "plt.title(\"Accuracy using 1-gram SVM Classifier\")\n",
    "plt.show()"
   ]
  },
  {
   "cell_type": "markdown",
   "metadata": {},
   "source": [
    "#### **Using 2-gram**"
   ]
  },
  {
   "cell_type": "code",
   "execution_count": 64,
   "metadata": {},
   "outputs": [
    {
     "name": "stdout",
     "output_type": "stream",
     "text": [
      "TF-IDF calculation: Done!!\n",
      "Splitted data\n"
     ]
    },
    {
     "name": "stderr",
     "output_type": "stream",
     "text": [
      "/opt/conda/lib/python3.7/site-packages/ipykernel_launcher.py:85: FutureWarning: Support for multi-dimensional indexing (e.g. `obj[:, None]`) is deprecated and will be removed in a future version.  Convert to a numpy array before indexing instead.\n",
      "/opt/conda/lib/python3.7/site-packages/ipykernel_launcher.py:91: FutureWarning: Support for multi-dimensional indexing (e.g. `obj[:, None]`) is deprecated and will be removed in a future version.  Convert to a numpy array before indexing instead.\n",
      "/opt/conda/lib/python3.7/site-packages/ipykernel_launcher.py:92: FutureWarning: Support for multi-dimensional indexing (e.g. `obj[:, None]`) is deprecated and will be removed in a future version.  Convert to a numpy array before indexing instead.\n"
     ]
    }
   ],
   "source": [
    "x_train,x_test,y_train,y_test = get_data(n_grams=(1,2), prep_data= prep_data)\n",
    "\n",
    "model_Scratch_2gram = MulticlassSVM(n_iter=1500)\n",
    "model_Scratch_2gram.fit_cs(x_train, y_train)\n",
    "\n",
    "#print(model_Scratch_2gram.score(x_train, y_train))"
   ]
  },
  {
   "cell_type": "code",
   "execution_count": 65,
   "metadata": {},
   "outputs": [
    {
     "name": "stdout",
     "output_type": "stream",
     "text": [
      "                    precision    recall  f1-score   support\n",
      "\n",
      "Negative sentiment       0.94      0.47      0.63     12534\n",
      "Positive Sentiment       0.65      0.97      0.78     12466\n",
      "\n",
      "          accuracy                           0.72     25000\n",
      "         macro avg       0.79      0.72      0.70     25000\n",
      "      weighted avg       0.79      0.72      0.70     25000\n",
      "\n"
     ]
    }
   ],
   "source": [
    "y_pred2_2g = model_Scratch_2gram.predict_cs(x_test)\n",
    "cm2_2g = confusion_matrix(y_test,y_pred2_2g)\n",
    "\n",
    "accuracy2_2g= accuracy_score(y_test,y_pred2_2g)\n",
    "f12_2g = f1_score(y_test,y_pred2_2g)\n",
    "prec2_2g = precision_score(y_test,y_pred2_2g)\n",
    "recall2_2g = recall_score(y_test,y_pred2_2g)\n",
    "report2_2g = classification_report(y_test,y_pred2_2g, target_names=target_names)\n",
    "\n",
    "joblib.dump(model_Scratch_2gram, 'model_Scratch_2gram.pkl')\n",
    "\n",
    "print(report2_2g)"
   ]
  },
  {
   "cell_type": "code",
   "execution_count": 66,
   "metadata": {},
   "outputs": [
    {
     "name": "stdout",
     "output_type": "stream",
     "text": [
      "Accuracy using 2-gram SVM Classifier on Test data: 72.02%\n",
      "\n",
      "\n"
     ]
    },
    {
     "data": {
      "image/png": "[encoded data removed]",
      "text/plain": [
       "<Figure size 432x288 with 2 Axes>"
      ]
     },
     "metadata": {
      "needs_background": "light"
     },
     "output_type": "display_data"
    }
   ],
   "source": [
    "print(\"Accuracy using 2-gram SVM Classifier on Test data: {:.2f}%\\n\\n\".format(accuracy2_2g*100))\n",
    "seaborn.heatmap(cm2_2g, cmap = \"GnBu\", fmt = \".1f\", annot = True)\n",
    "plt.title(\"Accuracy using 2-gram SVM Classifier\")\n",
    "plt.show()"
   ]
  },
  {
   "cell_type": "markdown",
   "metadata": {},
   "source": [
    "#### **Using 3-gram**"
   ]
  },
  {
   "cell_type": "code",
   "execution_count": 45,
   "metadata": {},
   "outputs": [
    {
     "name": "stdout",
     "output_type": "stream",
     "text": [
      "TF-IDF calculation: Done!!\n",
      "Splitted data\n"
     ]
    },
    {
     "name": "stderr",
     "output_type": "stream",
     "text": [
      "/opt/conda/lib/python3.7/site-packages/ipykernel_launcher.py:84: FutureWarning: Support for multi-dimensional indexing (e.g. `obj[:, None]`) is deprecated and will be removed in a future version.  Convert to a numpy array before indexing instead.\n",
      "/opt/conda/lib/python3.7/site-packages/ipykernel_launcher.py:90: FutureWarning: Support for multi-dimensional indexing (e.g. `obj[:, None]`) is deprecated and will be removed in a future version.  Convert to a numpy array before indexing instead.\n",
      "/opt/conda/lib/python3.7/site-packages/ipykernel_launcher.py:91: FutureWarning: Support for multi-dimensional indexing (e.g. `obj[:, None]`) is deprecated and will be removed in a future version.  Convert to a numpy array before indexing instead.\n"
     ]
    }
   ],
   "source": [
    "x_train,x_test,y_train,y_test = get_data(n_grams=(1,3),prep_data = prep_data)\n",
    "\n",
    "model_Scratch_3gram = MulticlassSVM()\n",
    "model_Scratch_3gram.fit_cs(x_train, y_train)\n",
    "#print(model_Scratch_3gram.score(x_train, y_train))"
   ]
  },
  {
   "cell_type": "code",
   "execution_count": 46,
   "metadata": {},
   "outputs": [
    {
     "name": "stdout",
     "output_type": "stream",
     "text": [
      "                    precision    recall  f1-score   support\n",
      "\n",
      "Negative sentiment       0.92      0.56      0.70     12527\n",
      "Positive Sentiment       0.68      0.95      0.80     12473\n",
      "\n",
      "          accuracy                           0.76     25000\n",
      "         macro avg       0.80      0.76      0.75     25000\n",
      "      weighted avg       0.80      0.76      0.75     25000\n",
      "\n"
     ]
    }
   ],
   "source": [
    "y_pred2_3g = model_Scratch_3gram.predict_cs(x_test)\n",
    "cm2_3g = confusion_matrix(y_test,y_pred2_3g)\n",
    "\n",
    "accuracy2_3g= accuracy_score(y_test,y_pred2_3g)\n",
    "f12_3g = f1_score(y_test,y_pred2_3g)\n",
    "prec2_3g = precision_score(y_test,y_pred2_3g)\n",
    "recall2_3g = recall_score(y_test,y_pred2_3g)\n",
    "report2_3g = classification_report(y_test,y_pred2_3g, target_names=target_names)\n",
    "\n",
    "joblib.dump(model_Scratch_3gram, 'model_Scratch_3gram.pkl')\n",
    "\n",
    "print(report2_3g)"
   ]
  },
  {
   "cell_type": "code",
   "execution_count": 47,
   "metadata": {},
   "outputs": [
    {
     "name": "stdout",
     "output_type": "stream",
     "text": [
      "Accuracy using 3-gram SVM Classifier on Test data: 75.58%\n",
      "\n",
      "\n"
     ]
    },
    {
     "data": {
      "image/png": "[encoded data removed]",
      "text/plain": [
       "<Figure size 432x288 with 2 Axes>"
      ]
     },
     "metadata": {
      "needs_background": "light"
     },
     "output_type": "display_data"
    }
   ],
   "source": [
    "print(\"Accuracy using 3-gram SVM Classifier on Test data: {:.2f}%\\n\\n\".format(accuracy2_3g*100))\n",
    "seaborn.heatmap(cm2_3g, cmap = \"GnBu\", fmt = \".1f\", annot = True)\n",
    "plt.title(\"Accuracy using 3-gram SVM Classifier\")\n",
    "plt.show()"
   ]
  },
  {
   "cell_type": "markdown",
   "metadata": {},
   "source": [
    "### 3. Performance Comparison"
   ]
  },
  {
   "cell_type": "code",
   "execution_count": 67,
   "metadata": {},
   "outputs": [],
   "source": [
    "results = {'sklearn_1gram': [model_inbuilt_1gram, accuracy1_1g, f11_1g, prec1_1g, recall1_1g, report1_1g, cm1_1g],\n",
    "            'sklearn_2gram': [model_inbuilt_2gram, accuracy1_2g, f11_2g, prec1_2g, recall1_2g, report1_2g, cm1_2g],\n",
    "            'sklearn_3gram': [model_inbuilt_3gram, accuracy1_3g, f11_3g, prec1_3g, recall1_3g, report1_3g, cm1_3g],\n",
    "            'scratch_1gram': [model_Scratch_1gram, accuracy2_1g, f12_1g, prec2_1g, recall2_1g, report2_1g, cm2_1g],\n",
    "            'scratch_2gram': [model_Scratch_2gram, accuracy2_2g, f12_2g, prec2_2g, recall2_2g, report2_2g, cm2_2g],\n",
    "            'scratch_3gram': [model_Scratch_3gram, accuracy2_3g, f12_3g, prec2_3g, recall2_3g, report2_3g, cm2_3g]}"
   ]
  },
  {
   "cell_type": "code",
   "execution_count": 136,
   "metadata": {},
   "outputs": [],
   "source": [
    "def plot_(dct, param):\n",
    "    \n",
    "    title = ['model', 'Accuracy', 'F1-score', 'Precision', 'Recall', 'Report', 'Confusion Matrix']\n",
    "    model_lst = list(dct.keys())\n",
    "    \n",
    "    fig, ax = plt.subplots(1, 1,figsize = (12, 3))\n",
    "    \n",
    "    values = []\n",
    "    for i in range(len(model_lst)):\n",
    "        values.append(dct[model_lst[i]][param])\n",
    "    \n",
    "    width = 0.35\n",
    "    x = np.arange(len(model_lst)) \n",
    "    rects = ax.bar(x-width, values, 2*width, color = ['springgreen', 'tomato', 'violet', 'deepskyblue', 'peachpuff', 'lavender'])\n",
    "    #rects1 = ax.bar(x - width/2, men_means, width, label='Men')\n",
    "    \n",
    "    ax.set_title(title[param])\n",
    "    ax.set_xticks(x-width)\n",
    "    ax.set_xticklabels(model_lst)\n",
    "    ax.bar_label(rects, padding =1, label_type='center')\n",
    "    \n",
    "    plt.show()"
   ]
  },
  {
   "cell_type": "code",
   "execution_count": 137,
   "metadata": {},
   "outputs": [
    {
     "data": {
      "image/png": "[encoded data removed]",
      "text/plain": [
       "<Figure size 864x216 with 1 Axes>"
      ]
     },
     "metadata": {
      "needs_background": "light"
     },
     "output_type": "display_data"
    }
   ],
   "source": [
    "plot_(results, 1)"
   ]
  },
  {
   "cell_type": "code",
   "execution_count": 138,
   "metadata": {},
   "outputs": [
    {
     "data": {
      "image/png": "[encoded data removed]",
      "text/plain": [
       "<Figure size 864x216 with 1 Axes>"
      ]
     },
     "metadata": {
      "needs_background": "light"
     },
     "output_type": "display_data"
    }
   ],
   "source": [
    "plot_(results, 2)"
   ]
  },
  {
   "cell_type": "code",
   "execution_count": 139,
   "metadata": {},
   "outputs": [
    {
     "data": {
      "image/png": "[encoded data removed]",
      "text/plain": [
       "<Figure size 864x216 with 1 Axes>"
      ]
     },
     "metadata": {
      "needs_background": "light"
     },
     "output_type": "display_data"
    }
   ],
   "source": [
    "plot_(results, 3)"
   ]
  },
  {
   "cell_type": "code",
   "execution_count": 140,
   "metadata": {},
   "outputs": [
    {
     "data": {
      "image/png": "[encoded data removed]",
      "text/plain": [
       "<Figure size 864x216 with 1 Axes>"
      ]
     },
     "metadata": {
      "needs_background": "light"
     },
     "output_type": "display_data"
    }
   ],
   "source": [
    "plot_(results, 4)"
   ]
  },
  {
   "cell_type": "code",
   "execution_count": null,
   "metadata": {},
   "outputs": [],
   "source": []
  }
 ],
 "metadata": {
  "kernelspec": {
   "display_name": "Python 3",
   "language": "python",
   "name": "python3"
  },
  "language_info": {
   "codemirror_mode": {
    "name": "ipython",
    "version": 3
   },
   "file_extension": ".py",
   "mimetype": "text/x-python",
   "name": "python",
   "nbconvert_exporter": "python",
   "pygments_lexer": "ipython3",
   "version": "3.7.0"
  }
 },
 "nbformat": 4,
 "nbformat_minor": 4
}
